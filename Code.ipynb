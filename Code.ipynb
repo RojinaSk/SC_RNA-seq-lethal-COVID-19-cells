{
 "cells": [
  {
   "cell_type": "code",
   "execution_count": null,
   "id": "38b30a83",
   "metadata": {},
   "outputs": [],
   "source": [
    "#importing required packages\n",
    "!pip install scanpy -q\n",
    "import scanpy as sc\n",
    "import numpy as np\n",
    "import pandas as pd\n",
    "!pip install scvi-tools -q\n",
    "import scvi \n",
    "import seaborn as sns\n",
    "import torch"
   ]
  },
  {
   "cell_type": "code",
   "execution_count": null,
   "id": "442fb416",
   "metadata": {},
   "outputs": [],
   "source": [
    "from scipy.sparse import csr_matrix\n",
    "import os"
   ]
  },
  {
   "cell_type": "code",
   "execution_count": null,
   "id": "7042ea9e",
   "metadata": {},
   "outputs": [],
   "source": [
    "def pp(filepath):\n",
    "    #reading the data and transposing it to get genes in row\n",
    "    adata = sc.read_csv(filepath).T  \n",
    "    #applying filter and remopving genes that have less than 10 cells\n",
    "    sc.pp.filter_genes(adata, min_cells = 10)\n",
    "    #Keeping only the top 2000 most variable genes\n",
    "    sc.pp.highly_variable_genes(adata, n_top_genes = 2000, subset = True, flavor = 'seurat_v3')\n",
    "    \n",
    "    # Specify the device for scvi (GPU if available, otherwise fallback to CPU)\n",
    "    device = torch.device(\"cuda\" if torch.cuda.is_available() else \"mps\" if torch.backends.mps.is_available() else \"cpu\")\n",
    "    scvi.settings.device = device  # Set device for scvi\n",
    "    \n",
    "    #model setup and train using scvi\n",
    "    scvi.model.SCVI.setup_anndata(adata)\n",
    "    vae = scvi.model.SCVI(adata)\n",
    "    vae.train()\n",
    "    #doublet detection\n",
    "    solo = scvi.external.SOLO.from_scvi_model(vae)\n",
    "    solo.train()\n",
    "    df = solo.predict()\n",
    "    df['prediction'] = solo.predict(soft = False)\n",
    "   \n",
    "    df['dif'] = df.doublet - df.singlet\n",
    "    doublets = df[(df.prediction == 'doublet') & (df.dif > 1)]\n",
    "    \n",
    "    #reloading the data\n",
    "    adata = sc.read_csv(filepath).T\n",
    "    adata.obs['Sample'] = filepath.split('_')[1] #'GSM5226574_C51ctr_raw_counts.csv'\n",
    "    \n",
    "    #removing any doublets\n",
    "    adata.obs['doublet'] = adata.obs.index.isin(doublets.index)\n",
    "    adata = adata[~adata.obs.doublet]\n",
    "    \n",
    "    \n",
    "    sc.pp.filter_cells(adata, min_genes=200) #get rid of cells with fewer than 200 genes\n",
    "    #sc.pp.filter_genes(adata, min_cells=3) #get rid of genes that are found in fewer than 3 cells\n",
    "    adata.var['mt'] = adata.var_names.str.startswith('mt-')  # annotate the group of mitochondrial genes as 'mt'\n",
    "    #now lets look at ribosomal genes. we are using the preset of ribosomal genes dataframe from broad institute\n",
    "    ribo_url = \"http://software.broadinstitute.org/gsea/msigdb/download_geneset.jsp?geneSetName=KEGG_RIBOSOME&fileType=txt\"\n",
    "    ribo_genes = pd.read_table(ribo_url, skiprows=2, header = None)\n",
    "\n",
    "\n",
    "    adata.var['ribo'] = adata.var_names.isin(ribo_genes[0].values)\n",
    "    sc.pp.calculate_qc_metrics(adata, qc_vars=['mt', 'ribo'], percent_top=None, log1p=False, inplace=True)\n",
    "    upper_lim = np.quantile(adata.obs.n_genes_by_counts.values, .98)\n",
    "    adata = adata[adata.obs.n_genes_by_counts < upper_lim]\n",
    "    adata = adata[adata.obs.pct_counts_mt < 20]\n",
    "    adata = adata[adata.obs.pct_counts_ribo < 2]\n",
    "\n",
    "\n",
    "    return adata"
   ]
  },
  {
   "cell_type": "code",
   "execution_count": null,
   "id": "ad4fbdb2",
   "metadata": {},
   "outputs": [],
   "source": [
    "output = []\n",
    "for file in os.listdir('Data/'):\n",
    "    output.append(pp('Data/' + file))"
   ]
  },
  {
   "cell_type": "code",
   "execution_count": null,
   "id": "70fe600d",
   "metadata": {},
   "outputs": [],
   "source": [
    "#integrating all the data into one\n",
    "sc_adata = sc.concat(output)"
   ]
  },
  {
   "cell_type": "code",
   "execution_count": null,
   "id": "9ed99e2d",
   "metadata": {},
   "outputs": [],
   "source": [
    "sc_adata"
   ]
  },
  {
   "cell_type": "code",
   "execution_count": null,
   "id": "814e6026",
   "metadata": {},
   "outputs": [],
   "source": [
    "#filtering genes that contain less than 10 cells\n",
    "sc.pp.filter_genes(sc_adata, min_cells = 100)"
   ]
  },
  {
   "cell_type": "code",
   "execution_count": null,
   "id": "c03dde49",
   "metadata": {},
   "outputs": [],
   "source": [
    "sc_adata.X"
   ]
  },
  {
   "cell_type": "code",
   "execution_count": null,
   "id": "3b6156ab",
   "metadata": {},
   "outputs": [],
   "source": [
    "#converting X to dense matrix to reduce storage issues\n",
    "sc_adata.X = csr_matrix(sc_adata.X)"
   ]
  },
  {
   "cell_type": "code",
   "execution_count": null,
   "id": "f6fba5c9",
   "metadata": {},
   "outputs": [],
   "source": [
    "#saving it as h5ad(scanpy adata format)\n",
    "sc_adata.write_h5ad('combined.h5ad')"
   ]
  },
  {
   "cell_type": "code",
   "execution_count": null,
   "id": "e0a95d8c",
   "metadata": {},
   "outputs": [],
   "source": [
    "adata = sc.read_h5ad('combined.h5ad')\n",
    "adata"
   ]
  },
  {
   "cell_type": "code",
   "execution_count": null,
   "id": "5a6a1ca5",
   "metadata": {},
   "outputs": [],
   "source": [
    "#looking at how many samples we have\n",
    "sc_adata.obs"
   ]
  },
  {
   "cell_type": "code",
   "execution_count": null,
   "id": "e01fb434",
   "metadata": {},
   "outputs": [],
   "source": [
    "#saving the raw preprocessed data into layer called counts as it is without performing normalization or log transformation \n",
    "sc_adata.layers['counts'] = sc_adata.X.copy()"
   ]
  },
  {
   "cell_type": "code",
   "execution_count": null,
   "id": "d9fbfb6d",
   "metadata": {},
   "outputs": [],
   "source": [
    "#Normalizing the raw datacounts to 10000 in every cell and log tranforming the data\n",
    "sc.pp.normalize_total(sc_adata, target_sum = 1e4)\n",
    "sc.pp.log1p(sc_adata)\n",
    "sc_adata.raw = sc_adata #saving the log normalized data into sc_adata.raw slot"
   ]
  },
  {
   "cell_type": "code",
   "execution_count": null,
   "id": "eced93b8",
   "metadata": {},
   "outputs": [],
   "source": [
    "#viewing the top \n",
    "sc_adata"
   ]
  },
  {
   "cell_type": "code",
   "execution_count": null,
   "id": "2b400d67",
   "metadata": {},
   "outputs": [],
   "source": [
    "#setting up anndata model\n",
    "\n",
    "scvi.model.SCVI.setup_anndata(sc_adata, layer = \"counts\",\n",
    "                             categorical_covariate_keys=[\"Sample\"], \n",
    "                             continuous_covariate_keys=['pct_counts_mt', 'total_counts', 'pct_counts_ribo'])"
   ]
  },
  {
   "cell_type": "code",
   "execution_count": null,
   "id": "35ff6a4d",
   "metadata": {},
   "outputs": [],
   "source": [
    "#initializing the model \n",
    "model = scvi.model.SCVI(sc_adata)"
   ]
  },
  {
   "cell_type": "code",
   "execution_count": null,
   "id": "eefe502b",
   "metadata": {},
   "outputs": [],
   "source": [
    "#training the initialized model\n",
    "model.train()"
   ]
  },
  {
   "cell_type": "code",
   "execution_count": null,
   "id": "9d8ba2e6",
   "metadata": {},
   "outputs": [],
   "source": [
    "#after model is trained, we can use get latent representation to get a overlook at our data\n",
    "#used in single-cell data analysis workflows involving the scVI \n",
    "#(single-cell variational inference) model for analyzing single-cell RNA-seq data.\n",
    "sc_adata.obsm['X_scVI'] = model.get_latent_representation()"
   ]
  },
  {
   "cell_type": "code",
   "execution_count": null,
   "id": "74180cd8",
   "metadata": {},
   "outputs": [],
   "source": [
    "#getting scvi normalization and saving it as another layer scvi_normalized instead of rewriting\n",
    "\n",
    "sc_adata.layers['scvi_normalized'] = model.get_normalized_expression(library_size = 1e4)"
   ]
  },
  {
   "cell_type": "code",
   "execution_count": null,
   "id": "d347046d",
   "metadata": {},
   "outputs": [],
   "source": [
    "sc_adata.obsm['X_scVI']"
   ]
  },
  {
   "cell_type": "code",
   "execution_count": null,
   "id": "afd1ec93",
   "metadata": {},
   "outputs": [],
   "source": [
    "#Clustering"
   ]
  },
  {
   "cell_type": "code",
   "execution_count": null,
   "id": "b6c209b4",
   "metadata": {},
   "outputs": [],
   "source": [
    "#calculating the neighbors using X_scVI\n",
    "sc.pp.neighbors(sc_adata, use_rep = 'X_scVI')"
   ]
  },
  {
   "cell_type": "code",
   "execution_count": null,
   "id": "f73f0ac2",
   "metadata": {},
   "outputs": [],
   "source": [
    "#running Umap \n",
    "sc.tl.umap(sc_adata)\n",
    "sc.tl.leiden(sc_adata, resolution = 0.5)"
   ]
  },
  {
   "cell_type": "code",
   "execution_count": null,
   "id": "c7903a72",
   "metadata": {},
   "outputs": [],
   "source": [
    "#plotting umap, one with clusters label and one sample labeled\n",
    "sc.pl.umap(sc_adata, color = ['leiden', 'Sample'], frameon = False)"
   ]
  },
  {
   "cell_type": "code",
   "execution_count": null,
   "id": "ffbe615e",
   "metadata": {},
   "outputs": [],
   "source": [
    "#write the integrated sc_adata object\n",
    "sc_adata.write_h5ad('integrated.h5ad')"
   ]
  },
  {
   "cell_type": "markdown",
   "id": "4d3dd9ae",
   "metadata": {},
   "source": [
    "# Find markers/ label cell types"
   ]
  },
  {
   "cell_type": "code",
   "execution_count": null,
   "id": "0102c225",
   "metadata": {},
   "outputs": [],
   "source": [
    "#changing the resolution to 1\n",
    "sc.tl.leiden(sc_adata, resolution = 1)"
   ]
  },
  {
   "cell_type": "code",
   "execution_count": null,
   "id": "a4f9aada",
   "metadata": {},
   "outputs": [],
   "source": [
    "#getting markers genes based on leiden \n",
    "sc.tl.rank_genes_groups(sc_adata, 'leiden')"
   ]
  },
  {
   "cell_type": "code",
   "execution_count": null,
   "id": "df6291c4",
   "metadata": {},
   "outputs": [],
   "source": [
    "#Group = leiden cluster\n",
    "markers = sc.get.rank_genes_groups_df(sc_adata, None)\n",
    "#filtering markers with pval_adj less than 0.05 and logFC >.5                                      \n",
    "markers = markers[(markers.pvals_adj < 0.05) & (markers.logfoldchanges > .5)]\n",
    "markers"
   ]
  },
  {
   "cell_type": "code",
   "execution_count": null,
   "id": "9f1e0e18",
   "metadata": {},
   "outputs": [],
   "source": [
    "#using scvi model, calling DE function from our model and grouping by leiden\n",
    "markers_scvi = model.differential_expression(groupby = 'leiden')\n",
    "markers_scvi"
   ]
  },
  {
   "cell_type": "code",
   "execution_count": null,
   "id": "920c5cfb",
   "metadata": {},
   "outputs": [],
   "source": [
    "#we filter it again: keep only True from \"is_de_fdr_0.05\" and markers_scvi.lfc mean more than .5\n",
    "markers_scvi = markers_scvi[(markers_scvi['is_de_fdr_0.05']) & (markers_scvi.lfc_mean > .5)]\n",
    "markers_scvi"
   ]
  },
  {
   "cell_type": "code",
   "execution_count": null,
   "id": "d796a5d2",
   "metadata": {
    "scrolled": false
   },
   "outputs": [],
   "source": [
    "#create a umap plot \n",
    "sc.pl.umap(sc_adata, color = ['leiden'], frameon = False, legend_loc = \"on data\")"
   ]
  },
  {
   "cell_type": "code",
   "execution_count": null,
   "id": "6119a4d2",
   "metadata": {},
   "outputs": [],
   "source": [
    "#for x in range(0,27):\n",
    "   # print(f'\"{x}\":\",\"')"
   ]
  },
  {
   "cell_type": "code",
   "execution_count": null,
   "id": "da55e85e",
   "metadata": {},
   "outputs": [],
   "source": [
    "#sc.pl.umap(sc_adata, color = ['PTPRC', 'CD3E', 'CD4'], frameon = False, layer = 'scvi_normalized', vmax = 5)\n",
    "\n",
    "#sc.pl.umap(sc_adata, color = ['PTPRC', 'CD3E', 'CD8A'], frameon = False, layer = 'scvi_normalized', vmax = 5)\n",
    "\n",
    "sc.pl.umap(sc_adata, color = ['EPCAM', 'MUC1'], frameon = False, layer = 'scvi_normalized', vmax = 5)\n"
   ]
  },
  {
   "cell_type": "code",
   "execution_count": null,
   "id": "f33934fd",
   "metadata": {},
   "outputs": [],
   "source": [
    "#markers[markers.names == 'CD8A']"
   ]
  },
  {
   "cell_type": "code",
   "execution_count": null,
   "id": "b48ff832",
   "metadata": {},
   "outputs": [],
   "source": [
    "cell_type = {\"0\":\"Macrophage\",\n",
    "\"1\":\"Fibroblast\",\n",
    "\"2\":\"CD4+ T-cell\",\n",
    "\"3\":\"AT1\",\n",
    "\"4\":\"Macrophage\",\n",
    "\"5\":\"AT2\",\n",
    "\"6\":\"Endothelial cell\",\n",
    "\"7\":\"Plasma cell\",\n",
    "\"8\":\"AT2\",\n",
    "\"9\":\"Macrophage\",\n",
    "\"10\":\"Fibroblast\",\n",
    "\"11\":\"Dendritic cell\",\n",
    "\"12\":\"Fibroblast\",\n",
    "\"13\":\"Cycling T/NK\",\n",
    "\"14\":\"Airway epithelial\",\n",
    "\"15\":\"Airway epithelial\",\n",
    "\"16\":\"Airway epithelial\",\n",
    "\"17\":\"B-cell\",\n",
    "\"18\":\"Aerocyte\",\n",
    "\"19\":\"Airway epithelial\",\n",
    "\"20\":\"Monocyte\",\n",
    "\"21\":\"CD8+ T-cell\",\n",
    "\"22\":\"Neuronal cell\",\n",
    "\"23\":\"Dendritic cell\",\n",
    "\"24\":\"Pericyte\",\n",
    "\"25\":\"Erythroid-like\",\n",
    "\"26\":\"Smooth muscle cell\",\n",
    "\"27\":\"Macrophage\"\n",
    "}"
   ]
  },
  {
   "cell_type": "code",
   "execution_count": null,
   "id": "54a744e1",
   "metadata": {},
   "outputs": [],
   "source": [
    "#markers_scvi[markers_scvi.group1 == '23']"
   ]
  },
  {
   "cell_type": "code",
   "execution_count": null,
   "id": "50d78cdc",
   "metadata": {},
   "outputs": [],
   "source": [
    "#for item in markers_scvi[markers_scvi.group1 == '20'] [0:1000].index:\n",
    "    print(item)"
   ]
  },
  {
   "cell_type": "code",
   "execution_count": null,
   "id": "82ed128f",
   "metadata": {},
   "outputs": [],
   "source": [
    "#mapping using the cell_type dictionary\n",
    "sc_adata.obs['cell_type'] = sc_adata.obs.leiden.map(cell_type)"
   ]
  },
  {
   "cell_type": "code",
   "execution_count": null,
   "id": "d460914b",
   "metadata": {},
   "outputs": [],
   "source": [
    "#\n",
    "sc.pl.umap(sc_adata, color = ['cell_type'], frameon = False)"
   ]
  },
  {
   "cell_type": "code",
   "execution_count": null,
   "id": "c5032f3d",
   "metadata": {},
   "outputs": [],
   "source": [
    "sc_adata"
   ]
  },
  {
   "cell_type": "code",
   "execution_count": null,
   "id": "6e1f489c",
   "metadata": {},
   "outputs": [],
   "source": [
    "#saving the scvi_markers to the uns data slot\n",
    "sc_adata.uns['scvi_markers'] = markers_scvi\n",
    "sc_adata.uns['markers'] = markers"
   ]
  },
  {
   "cell_type": "code",
   "execution_count": null,
   "id": "89cf849c",
   "metadata": {},
   "outputs": [],
   "source": [
    "sc_adata.write_h5ad('integrated.h5ad')"
   ]
  },
  {
   "cell_type": "code",
   "execution_count": null,
   "id": "f9086203",
   "metadata": {},
   "outputs": [],
   "source": [
    "model.save('model.model')"
   ]
  },
  {
   "cell_type": "markdown",
   "id": "2cd549ad",
   "metadata": {},
   "source": [
    "# Analysis"
   ]
  },
  {
   "cell_type": "code",
   "execution_count": null,
   "id": "5b0be27d",
   "metadata": {},
   "outputs": [],
   "source": [
    "import scanpy as sc\n",
    "import scvi\n",
    "import seaborn as sns\n",
    "import numpy as np\n",
    "import pandas as pd"
   ]
  },
  {
   "cell_type": "code",
   "execution_count": null,
   "id": "58a35cef",
   "metadata": {},
   "outputs": [],
   "source": [
    "\n",
    "sc_adata = sc.read_h5ad('integrated.h5ad')"
   ]
  },
  {
   "cell_type": "code",
   "execution_count": null,
   "id": "9c169c9b",
   "metadata": {},
   "outputs": [],
   "source": [
    "#listing sample names\n",
    "sc_adata.obs.Sample.unique().tolist()"
   ]
  },
  {
   "cell_type": "code",
   "execution_count": null,
   "id": "c618d2d0",
   "metadata": {},
   "outputs": [],
   "source": [
    "#creating a separate column defining covid sample and control sample\n",
    "def map_condition(x):\n",
    "    if 'cov' in x:\n",
    "        return 'COVID19'\n",
    "    else:\n",
    "        return 'control'"
   ]
  },
  {
   "cell_type": "code",
   "execution_count": null,
   "id": "83963f9f",
   "metadata": {
    "scrolled": true
   },
   "outputs": [],
   "source": [
    "#creating a new column called condition \n",
    "sc_adata.obs['condition'] = sc_adata.obs.Sample.map(map_condition)\n",
    "sc_adata.obs"
   ]
  },
  {
   "cell_type": "code",
   "execution_count": null,
   "id": "b82a0d10",
   "metadata": {},
   "outputs": [],
   "source": [
    "#counting the total number of cells in each sample\n",
    "num_tot_cells = sc_adata.obs.groupby(['Sample']).count()\n",
    "\n",
    "num_tot_cells = dict(zip(num_tot_cells.index, num_tot_cells.doublet))\n",
    "num_tot_cells"
   ]
  },
  {
   "cell_type": "code",
   "execution_count": null,
   "id": "1420bc9c",
   "metadata": {},
   "outputs": [],
   "source": [
    "#grouping the observation data by sample, condition and cell type\n",
    "cell_type_counts = sc_adata.obs.groupby(['Sample', 'condition', 'cell type']).count()\n",
    "\n",
    "cell_type_counts = cell_type_counts[cell_type_counts.sum(axis = 1) > 0].reset_index()\n",
    "cell_type_counts = cell_type_counts[cell_type_counts.columns[0:4]]\n",
    "cell_type_counts"
   ]
  },
  {
   "cell_type": "code",
   "execution_count": null,
   "id": "bc036400",
   "metadata": {},
   "outputs": [],
   "source": [
    "cell_type_counts['total_cells'] = cell_type_counts.Sample.map(num_tot_cells).astype(int)\n",
    "\n",
    "cell_type_counts['frequency'] = cell_type_counts.doublet / cell_type_counts.total_cells\n",
    "\n",
    "cell_type_counts"
   ]
  },
  {
   "cell_type": "markdown",
   "id": "d42e1bc7",
   "metadata": {},
   "source": [
    "# Plotting"
   ]
  },
  {
   "cell_type": "code",
   "execution_count": null,
   "id": "f14ede9a",
   "metadata": {
    "scrolled": true
   },
   "outputs": [],
   "source": [
    "import matplotlib.pyplot as plt\n",
    "\n",
    "plt.figure(figsize = (10,4))\n",
    "\n",
    "ax = sns.boxplot(data = cell_type_counts, x = 'cell type', y = 'frequency', hue = 'condition')\n",
    "\n",
    "plt.xticks(rotation = 35, rotation_mode = 'anchor', ha = 'right')\n",
    "\n",
    "plt.show()"
   ]
  },
  {
   "cell_type": "markdown",
   "id": "6e20c366",
   "metadata": {},
   "source": [
    "# Differential expression"
   ]
  },
  {
   "cell_type": "code",
   "execution_count": null,
   "id": "f2aebf94",
   "metadata": {},
   "outputs": [],
   "source": [
    "#DE with SCVI\n",
    "\n",
    "model  = scvi.model.SCVI.load('model.model', sc_adata)\n",
    "model"
   ]
  },
  {
   "cell_type": "code",
   "execution_count": null,
   "id": "51eed58b",
   "metadata": {},
   "outputs": [],
   "source": [
    "scvi_DE = model.differential_expression(\n",
    "    idx1 = [sc_adata.obs['cell type'] == 'AT1'],\n",
    "    idx2 = [sc_adata.obs['cell type'] == 'AT2']\n",
    "    )\n",
    "\n",
    "\n",
    "scvi_DE"
   ]
  },
  {
   "cell_type": "code",
   "execution_count": null,
   "id": "406ae1c0",
   "metadata": {},
   "outputs": [],
   "source": [
    "#filter out \n",
    "scvi_DE = scvi_DE[(scvi_DE['is_de_fdr_0.05']) & (abs(scvi_DE.lfc_mean) > .5)]\n",
    "scvi_DE = scvi_DE.sort_values('lfc_mean')\n",
    "scvi_DE"
   ]
  },
  {
   "cell_type": "code",
   "execution_count": null,
   "id": "78cc93fd",
   "metadata": {
    "scrolled": true
   },
   "outputs": [],
   "source": [
    "scvi_DE = scvi_DE[(scvi_DE.raw_normalized_mean1 > .5) | (scvi_DE.raw_normalized_mean2 > .5)]\n",
    "scvi_DE"
   ]
  },
  {
   "cell_type": "code",
   "execution_count": null,
   "id": "c796469b",
   "metadata": {
    "scrolled": true
   },
   "outputs": [],
   "source": [
    "genes_to_show = scvi_DE[-25:].index.tolist() + scvi_DE[:25].index.tolist() #top 25 and bottom 25 from sorted df\n",
    "sc.pl.heatmap(subset, genes_to_show, groupby='cell_type', swap_axes=True, layer = 'scvi_normalized',\n",
    "              log = True)"
   ]
  },
  {
   "cell_type": "markdown",
   "id": "4ba2b621",
   "metadata": {},
   "source": [
    "# GO Enrichment"
   ]
  },
  {
   "cell_type": "code",
   "execution_count": null,
   "id": "2d6d2708",
   "metadata": {},
   "outputs": [],
   "source": [
    "pip install --upgrade pip"
   ]
  },
  {
   "cell_type": "code",
   "execution_count": null,
   "id": "0273aa78",
   "metadata": {},
   "outputs": [],
   "source": [
    "pip install gseapy -q"
   ]
  },
  {
   "cell_type": "code",
   "execution_count": null,
   "id": "4a7f5396",
   "metadata": {},
   "outputs": [],
   "source": [
    "import gseapy as gp \n",
    "gp.get_library_name()\n",
    "# 'GO_Biological_Process_2023',\n",
    "#'KEGG_2021_Human',"
   ]
  },
  {
   "cell_type": "code",
   "execution_count": null,
   "id": "ae2fa492",
   "metadata": {},
   "outputs": [],
   "source": [
    "subset"
   ]
  },
  {
   "cell_type": "code",
   "execution_count": null,
   "id": "e71b5dbc",
   "metadata": {},
   "outputs": [],
   "source": [
    "enr = gp.enrichr(gene_list= dedf[dedf.log2fc > 0].gene.tolist(),\n",
    "                 gene_sets=['KEGG_2021_Human','GO_Biological_Process_2023'],\n",
    "                 organism='human',\n",
    "                 outdir=None, \n",
    "                 background = subset.var_names.tolist()\n",
    "                )"
   ]
  },
  {
   "cell_type": "code",
   "execution_count": null,
   "id": "255f92ba",
   "metadata": {},
   "outputs": [],
   "source": [
    "enr.results"
   ]
  },
  {
   "cell_type": "markdown",
   "id": "61dde29c",
   "metadata": {},
   "source": [
    "# comparisons using Violin plot"
   ]
  },
  {
   "cell_type": "code",
   "execution_count": null,
   "id": "10b678b0",
   "metadata": {},
   "outputs": [],
   "source": [
    "sc.pl.violin(subset[subset.obs.cell_type == 'AT2'], 'ETV5', groupby='condition')"
   ]
  },
  {
   "cell_type": "code",
   "execution_count": null,
   "id": "c2ff0fa4",
   "metadata": {},
   "outputs": [],
   "source": [
    "from scipy import stats\n",
    "temp = subset[subset.obs.cell_type == 'AT2']\n",
    "\n",
    "i = np.where(temp.var_names == 'ETV5')[0][0]\n",
    "a = temp[temp.obs.condition == 'COVID19'].X[:,i]\n",
    "b = temp[temp.obs.condition == 'control'].X[:,i]\n",
    "stats.mannwhitneyu(a, b)"
   ]
  }
 ],
 "metadata": {
  "kernelspec": {
   "display_name": "Python 3 (ipykernel)",
   "language": "python",
   "name": "python3"
  },
  "language_info": {
   "codemirror_mode": {
    "name": "ipython",
    "version": 3
   },
   "file_extension": ".py",
   "mimetype": "text/x-python",
   "name": "python",
   "nbconvert_exporter": "python",
   "pygments_lexer": "ipython3",
   "version": "3.11.5"
  }
 },
 "nbformat": 4,
 "nbformat_minor": 5
}
